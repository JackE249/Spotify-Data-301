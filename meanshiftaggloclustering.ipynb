{
 "cells": [
  {
   "cell_type": "code",
   "execution_count": 1,
   "metadata": {
    "colab": {
     "base_uri": "https://localhost:8080/"
    },
    "id": "tseemphpHZzh",
    "outputId": "d7e10b25-9f9c-4c89-f336-a7b21a0f7f92"
   },
   "outputs": [
    {
     "name": "stdout",
     "output_type": "stream",
     "text": [
      "Requirement already satisfied: spotipy in /opt/homebrew/anaconda3/lib/python3.9/site-packages (2.19.0)\n",
      "Requirement already satisfied: six>=1.15.0 in /opt/homebrew/anaconda3/lib/python3.9/site-packages (from spotipy) (1.16.0)\n",
      "Requirement already satisfied: urllib3>=1.26.0 in /opt/homebrew/anaconda3/lib/python3.9/site-packages (from spotipy) (1.26.7)\n",
      "Requirement already satisfied: requests>=2.25.0 in /opt/homebrew/anaconda3/lib/python3.9/site-packages (from spotipy) (2.26.0)\n",
      "Requirement already satisfied: idna<4,>=2.5 in /opt/homebrew/anaconda3/lib/python3.9/site-packages (from requests>=2.25.0->spotipy) (3.2)\n",
      "Requirement already satisfied: certifi>=2017.4.17 in /opt/homebrew/anaconda3/lib/python3.9/site-packages (from requests>=2.25.0->spotipy) (2021.10.8)\n",
      "Requirement already satisfied: charset-normalizer~=2.0.0 in /opt/homebrew/anaconda3/lib/python3.9/site-packages (from requests>=2.25.0->spotipy) (2.0.4)\n"
     ]
    }
   ],
   "source": [
    "!pip install spotipy"
   ]
  },
  {
   "cell_type": "code",
   "execution_count": 2,
   "metadata": {
    "id": "AhWMLjJZHSOs"
   },
   "outputs": [],
   "source": [
    "import json\n",
    "import pandas as pd\n",
    "import numpy as np\n",
    "import spotipy\n",
    "import requests\n",
    "import spotipy.util as util\n",
    "from spotipy.oauth2 import SpotifyOAuth\n",
    "import os\n",
    "from collections import defaultdict"
   ]
  },
  {
   "cell_type": "code",
   "execution_count": 9,
   "metadata": {
    "colab": {
     "base_uri": "https://localhost:8080/",
     "height": 443
    },
    "id": "ReNHRjmJyWHU",
    "outputId": "28d34eda-19a4-492d-86f7-263982e89a5f"
   },
   "outputs": [
    {
     "name": "stderr",
     "output_type": "stream",
     "text": [
      "/var/folders/fv/r1yqsvw1093g2dkcxww2w50r0000gn/T/ipykernel_36236/1541931416.py:14: SettingWithCopyWarning: \n",
      "A value is trying to be set on a copy of a slice from a DataFrame.\n",
      "Try using .loc[row_indexer,col_indexer] = value instead\n",
      "\n",
      "See the caveats in the documentation: https://pandas.pydata.org/pandas-docs/stable/user_guide/indexing.html#returning-a-view-versus-a-copy\n",
      "  dataset_features['loudness'] = dataset_features['loudness'] * -1\n"
     ]
    },
    {
     "data": {
      "text/html": [
       "<div>\n",
       "<style scoped>\n",
       "    .dataframe tbody tr th:only-of-type {\n",
       "        vertical-align: middle;\n",
       "    }\n",
       "\n",
       "    .dataframe tbody tr th {\n",
       "        vertical-align: top;\n",
       "    }\n",
       "\n",
       "    .dataframe thead th {\n",
       "        text-align: right;\n",
       "    }\n",
       "</style>\n",
       "<table border=\"1\" class=\"dataframe\">\n",
       "  <thead>\n",
       "    <tr style=\"text-align: right;\">\n",
       "      <th></th>\n",
       "      <th>energy</th>\n",
       "      <th>loudness</th>\n",
       "      <th>speechiness</th>\n",
       "      <th>acousticness</th>\n",
       "      <th>liveness</th>\n",
       "      <th>valence</th>\n",
       "      <th>tempo</th>\n",
       "    </tr>\n",
       "  </thead>\n",
       "  <tbody>\n",
       "    <tr>\n",
       "      <th>0</th>\n",
       "      <td>0.900018</td>\n",
       "      <td>0.114760</td>\n",
       "      <td>0.051688</td>\n",
       "      <td>0.012651</td>\n",
       "      <td>0.105285</td>\n",
       "      <td>0.606742</td>\n",
       "      <td>0.553117</td>\n",
       "    </tr>\n",
       "    <tr>\n",
       "      <th>1</th>\n",
       "      <td>0.614012</td>\n",
       "      <td>0.143876</td>\n",
       "      <td>0.049156</td>\n",
       "      <td>0.059137</td>\n",
       "      <td>0.091792</td>\n",
       "      <td>0.363636</td>\n",
       "      <td>0.946648</td>\n",
       "    </tr>\n",
       "    <tr>\n",
       "      <th>2</th>\n",
       "      <td>0.593012</td>\n",
       "      <td>0.199123</td>\n",
       "      <td>0.039873</td>\n",
       "      <td>0.015161</td>\n",
       "      <td>0.057447</td>\n",
       "      <td>0.625128</td>\n",
       "      <td>0.562313</td>\n",
       "    </tr>\n",
       "    <tr>\n",
       "      <th>3</th>\n",
       "      <td>0.750015</td>\n",
       "      <td>0.116726</td>\n",
       "      <td>0.043460</td>\n",
       "      <td>0.002078</td>\n",
       "      <td>0.082592</td>\n",
       "      <td>0.946885</td>\n",
       "      <td>0.543963</td>\n",
       "    </tr>\n",
       "    <tr>\n",
       "      <th>4</th>\n",
       "      <td>0.836017</td>\n",
       "      <td>0.144184</td>\n",
       "      <td>0.041034</td>\n",
       "      <td>0.038855</td>\n",
       "      <td>0.120617</td>\n",
       "      <td>0.479060</td>\n",
       "      <td>0.493330</td>\n",
       "    </tr>\n",
       "    <tr>\n",
       "      <th>...</th>\n",
       "      <td>...</td>\n",
       "      <td>...</td>\n",
       "      <td>...</td>\n",
       "      <td>...</td>\n",
       "      <td>...</td>\n",
       "      <td>...</td>\n",
       "      <td>...</td>\n",
       "    </tr>\n",
       "    <tr>\n",
       "      <th>3798</th>\n",
       "      <td>0.967020</td>\n",
       "      <td>0.063990</td>\n",
       "      <td>0.079641</td>\n",
       "      <td>0.014759</td>\n",
       "      <td>0.111418</td>\n",
       "      <td>0.348315</td>\n",
       "      <td>0.603483</td>\n",
       "    </tr>\n",
       "    <tr>\n",
       "      <th>3799</th>\n",
       "      <td>0.932019</td>\n",
       "      <td>0.056882</td>\n",
       "      <td>0.214135</td>\n",
       "      <td>0.007139</td>\n",
       "      <td>0.180926</td>\n",
       "      <td>0.648621</td>\n",
       "      <td>0.696765</td>\n",
       "    </tr>\n",
       "    <tr>\n",
       "      <th>3800</th>\n",
       "      <td>0.933019</td>\n",
       "      <td>0.082350</td>\n",
       "      <td>0.208861</td>\n",
       "      <td>0.045884</td>\n",
       "      <td>0.384340</td>\n",
       "      <td>0.723187</td>\n",
       "      <td>0.784175</td>\n",
       "    </tr>\n",
       "    <tr>\n",
       "      <th>3801</th>\n",
       "      <td>0.923019</td>\n",
       "      <td>0.106894</td>\n",
       "      <td>0.145570</td>\n",
       "      <td>0.002831</td>\n",
       "      <td>0.161505</td>\n",
       "      <td>0.677222</td>\n",
       "      <td>0.834619</td>\n",
       "    </tr>\n",
       "    <tr>\n",
       "      <th>3802</th>\n",
       "      <td>0.662013</td>\n",
       "      <td>0.151196</td>\n",
       "      <td>0.255274</td>\n",
       "      <td>0.012450</td>\n",
       "      <td>0.108351</td>\n",
       "      <td>0.582227</td>\n",
       "      <td>0.553269</td>\n",
       "    </tr>\n",
       "  </tbody>\n",
       "</table>\n",
       "<p>3803 rows × 7 columns</p>\n",
       "</div>"
      ],
      "text/plain": [
       "        energy  loudness  speechiness  acousticness  liveness   valence  \\\n",
       "0     0.900018  0.114760     0.051688      0.012651  0.105285  0.606742   \n",
       "1     0.614012  0.143876     0.049156      0.059137  0.091792  0.363636   \n",
       "2     0.593012  0.199123     0.039873      0.015161  0.057447  0.625128   \n",
       "3     0.750015  0.116726     0.043460      0.002078  0.082592  0.946885   \n",
       "4     0.836017  0.144184     0.041034      0.038855  0.120617  0.479060   \n",
       "...        ...       ...          ...           ...       ...       ...   \n",
       "3798  0.967020  0.063990     0.079641      0.014759  0.111418  0.348315   \n",
       "3799  0.932019  0.056882     0.214135      0.007139  0.180926  0.648621   \n",
       "3800  0.933019  0.082350     0.208861      0.045884  0.384340  0.723187   \n",
       "3801  0.923019  0.106894     0.145570      0.002831  0.161505  0.677222   \n",
       "3802  0.662013  0.151196     0.255274      0.012450  0.108351  0.582227   \n",
       "\n",
       "         tempo  \n",
       "0     0.553117  \n",
       "1     0.946648  \n",
       "2     0.562313  \n",
       "3     0.543963  \n",
       "4     0.493330  \n",
       "...        ...  \n",
       "3798  0.603483  \n",
       "3799  0.696765  \n",
       "3800  0.784175  \n",
       "3801  0.834619  \n",
       "3802  0.553269  \n",
       "\n",
       "[3803 rows x 7 columns]"
      ]
     },
     "execution_count": 9,
     "metadata": {},
     "output_type": "execute_result"
    }
   ],
   "source": [
    "# get the dataframes\n",
    "import os\n",
    "\n",
    "def normalize(x):\n",
    "  return (x / (x.max() - x.min()))\n",
    "\n",
    "data_path = \"./jte240_data\"\n",
    "prefix = \"jte240_\"\n",
    "dataset_detailed_df = pd.read_csv(f'{data_path}/{prefix}history_with_features')\n",
    "dataset_detailed_df = dataset_detailed_df.drop_duplicates(subset=\"id\").reset_index()\n",
    "dataset_detailed_df\n",
    "labels = ['energy', 'loudness', 'speechiness', 'acousticness', 'liveness', 'valence', 'tempo'] \n",
    "dataset_features = dataset_detailed_df[labels]\n",
    "dataset_features['loudness'] = dataset_features['loudness'] * -1\n",
    "dataset_features_normalized = pd.DataFrame(np.apply_along_axis(normalize, 0, dataset_features.values))\n",
    "dataset_features_normalized.columns = labels\n",
    "dataset_features_normalized"
   ]
  },
  {
   "cell_type": "code",
   "execution_count": 10,
   "metadata": {
    "id": "oK8FgSkBC2tG"
   },
   "outputs": [
    {
     "data": {
      "text/html": [
       "<div>\n",
       "<style scoped>\n",
       "    .dataframe tbody tr th:only-of-type {\n",
       "        vertical-align: middle;\n",
       "    }\n",
       "\n",
       "    .dataframe tbody tr th {\n",
       "        vertical-align: top;\n",
       "    }\n",
       "\n",
       "    .dataframe thead th {\n",
       "        text-align: right;\n",
       "    }\n",
       "</style>\n",
       "<table border=\"1\" class=\"dataframe\">\n",
       "  <thead>\n",
       "    <tr style=\"text-align: right;\">\n",
       "      <th></th>\n",
       "      <th>energy</th>\n",
       "      <th>loudness</th>\n",
       "      <th>speechiness</th>\n",
       "      <th>acousticness</th>\n",
       "      <th>liveness</th>\n",
       "      <th>valence</th>\n",
       "      <th>tempo</th>\n",
       "    </tr>\n",
       "  </thead>\n",
       "  <tbody>\n",
       "    <tr>\n",
       "      <th>0</th>\n",
       "      <td>0.900018</td>\n",
       "      <td>0.114760</td>\n",
       "      <td>0.051688</td>\n",
       "      <td>0.012651</td>\n",
       "      <td>0.105285</td>\n",
       "      <td>0.606742</td>\n",
       "      <td>0.553117</td>\n",
       "    </tr>\n",
       "    <tr>\n",
       "      <th>1</th>\n",
       "      <td>0.614012</td>\n",
       "      <td>0.143876</td>\n",
       "      <td>0.049156</td>\n",
       "      <td>0.059137</td>\n",
       "      <td>0.091792</td>\n",
       "      <td>0.363636</td>\n",
       "      <td>0.946648</td>\n",
       "    </tr>\n",
       "    <tr>\n",
       "      <th>2</th>\n",
       "      <td>0.593012</td>\n",
       "      <td>0.199123</td>\n",
       "      <td>0.039873</td>\n",
       "      <td>0.015161</td>\n",
       "      <td>0.057447</td>\n",
       "      <td>0.625128</td>\n",
       "      <td>0.562313</td>\n",
       "    </tr>\n",
       "    <tr>\n",
       "      <th>3</th>\n",
       "      <td>0.750015</td>\n",
       "      <td>0.116726</td>\n",
       "      <td>0.043460</td>\n",
       "      <td>0.002078</td>\n",
       "      <td>0.082592</td>\n",
       "      <td>0.946885</td>\n",
       "      <td>0.543963</td>\n",
       "    </tr>\n",
       "    <tr>\n",
       "      <th>4</th>\n",
       "      <td>0.836017</td>\n",
       "      <td>0.144184</td>\n",
       "      <td>0.041034</td>\n",
       "      <td>0.038855</td>\n",
       "      <td>0.120617</td>\n",
       "      <td>0.479060</td>\n",
       "      <td>0.493330</td>\n",
       "    </tr>\n",
       "    <tr>\n",
       "      <th>...</th>\n",
       "      <td>...</td>\n",
       "      <td>...</td>\n",
       "      <td>...</td>\n",
       "      <td>...</td>\n",
       "      <td>...</td>\n",
       "      <td>...</td>\n",
       "      <td>...</td>\n",
       "    </tr>\n",
       "    <tr>\n",
       "      <th>3798</th>\n",
       "      <td>0.967020</td>\n",
       "      <td>0.063990</td>\n",
       "      <td>0.079641</td>\n",
       "      <td>0.014759</td>\n",
       "      <td>0.111418</td>\n",
       "      <td>0.348315</td>\n",
       "      <td>0.603483</td>\n",
       "    </tr>\n",
       "    <tr>\n",
       "      <th>3799</th>\n",
       "      <td>0.932019</td>\n",
       "      <td>0.056882</td>\n",
       "      <td>0.214135</td>\n",
       "      <td>0.007139</td>\n",
       "      <td>0.180926</td>\n",
       "      <td>0.648621</td>\n",
       "      <td>0.696765</td>\n",
       "    </tr>\n",
       "    <tr>\n",
       "      <th>3800</th>\n",
       "      <td>0.933019</td>\n",
       "      <td>0.082350</td>\n",
       "      <td>0.208861</td>\n",
       "      <td>0.045884</td>\n",
       "      <td>0.384340</td>\n",
       "      <td>0.723187</td>\n",
       "      <td>0.784175</td>\n",
       "    </tr>\n",
       "    <tr>\n",
       "      <th>3801</th>\n",
       "      <td>0.923019</td>\n",
       "      <td>0.106894</td>\n",
       "      <td>0.145570</td>\n",
       "      <td>0.002831</td>\n",
       "      <td>0.161505</td>\n",
       "      <td>0.677222</td>\n",
       "      <td>0.834619</td>\n",
       "    </tr>\n",
       "    <tr>\n",
       "      <th>3802</th>\n",
       "      <td>0.662013</td>\n",
       "      <td>0.151196</td>\n",
       "      <td>0.255274</td>\n",
       "      <td>0.012450</td>\n",
       "      <td>0.108351</td>\n",
       "      <td>0.582227</td>\n",
       "      <td>0.553269</td>\n",
       "    </tr>\n",
       "  </tbody>\n",
       "</table>\n",
       "<p>3803 rows × 7 columns</p>\n",
       "</div>"
      ],
      "text/plain": [
       "        energy  loudness  speechiness  acousticness  liveness   valence  \\\n",
       "0     0.900018  0.114760     0.051688      0.012651  0.105285  0.606742   \n",
       "1     0.614012  0.143876     0.049156      0.059137  0.091792  0.363636   \n",
       "2     0.593012  0.199123     0.039873      0.015161  0.057447  0.625128   \n",
       "3     0.750015  0.116726     0.043460      0.002078  0.082592  0.946885   \n",
       "4     0.836017  0.144184     0.041034      0.038855  0.120617  0.479060   \n",
       "...        ...       ...          ...           ...       ...       ...   \n",
       "3798  0.967020  0.063990     0.079641      0.014759  0.111418  0.348315   \n",
       "3799  0.932019  0.056882     0.214135      0.007139  0.180926  0.648621   \n",
       "3800  0.933019  0.082350     0.208861      0.045884  0.384340  0.723187   \n",
       "3801  0.923019  0.106894     0.145570      0.002831  0.161505  0.677222   \n",
       "3802  0.662013  0.151196     0.255274      0.012450  0.108351  0.582227   \n",
       "\n",
       "         tempo  \n",
       "0     0.553117  \n",
       "1     0.946648  \n",
       "2     0.562313  \n",
       "3     0.543963  \n",
       "4     0.493330  \n",
       "...        ...  \n",
       "3798  0.603483  \n",
       "3799  0.696765  \n",
       "3800  0.784175  \n",
       "3801  0.834619  \n",
       "3802  0.553269  \n",
       "\n",
       "[3803 rows x 7 columns]"
      ]
     },
     "execution_count": 10,
     "metadata": {},
     "output_type": "execute_result"
    }
   ],
   "source": [
    "dataset_features_normalized"
   ]
  },
  {
   "cell_type": "code",
   "execution_count": 11,
   "metadata": {
    "id": "FXAaNjQ051PD"
   },
   "outputs": [],
   "source": [
    "# estimate the bandwidth\n",
    "from sklearn.cluster import estimate_bandwidth\n",
    "bandwidth = estimate_bandwidth(dataset_features_normalized)\n",
    "bandwidth"
   ]
  },
  {
   "cell_type": "code",
   "execution_count": 12,
   "metadata": {
    "id": "cR4nikDO6MuW"
   },
   "outputs": [
    {
     "data": {
      "text/plain": [
       "0.5732596190191881"
      ]
     },
     "execution_count": 12,
     "metadata": {},
     "output_type": "execute_result"
    }
   ],
   "source": [
    "bandwidth"
   ]
  },
  {
   "cell_type": "code",
   "execution_count": null,
   "metadata": {
    "id": "s-frbTkQ55uU"
   },
   "outputs": [],
   "source": [
    "# numcluster = []\n",
    "# for trybw in range(10, 70, 10):\n",
    "#   print(trybw / 100)\n",
    "#   meanshift = MeanShift(bandwidth=trybw/100)\n",
    "#   meanshift.fit(dataset_features_normalized)\n",
    "#   numcluster.append(meanshift)\n",
    "# [len(x.cluster_centers_) for x in numcluster]"
   ]
  },
  {
   "cell_type": "code",
   "execution_count": 13,
   "metadata": {
    "id": "biEQKfYxXjbb"
   },
   "outputs": [
    {
     "data": {
      "text/plain": [
       "MeanShift(bandwidth=0.5732596190191881)"
      ]
     },
     "execution_count": 13,
     "metadata": {},
     "output_type": "execute_result"
    }
   ],
   "source": [
    "from sklearn.cluster import MeanShift\n",
    "meanshift = MeanShift(bandwidth=bandwidth)\n",
    "meanshift.fit(dataset_features_normalized)"
   ]
  },
  {
   "cell_type": "code",
   "execution_count": null,
   "metadata": {
    "id": "Z1VUxAraAXic"
   },
   "outputs": [],
   "source": [
    "meanshift.cluster_centers_"
   ]
  },
  {
   "cell_type": "code",
   "execution_count": null,
   "metadata": {
    "id": "UbDFOnga7Sbq"
   },
   "outputs": [],
   "source": [
    "# vizualize the results\n",
    "from pandas.plotting import parallel_coordinates\n",
    "import matplotlib.pyplot as plt\n",
    "\n",
    "# Take the iris dataset\n",
    "# import seaborn as sns\n",
    "# data = sns.load_dataset('iris')\n",
    "# data\n",
    "\n",
    "cluster_df = pd.DataFrame(meanshift.cluster_centers_)\n",
    "rightlabels = pd.DataFrame(np.arange(0, len(meanshift.cluster_centers_)))\n",
    "cluster_df = pd.concat([cluster_df, rightlabels], axis = 1)\n",
    "cluster_df.columns = labels + ['cluster']\n",
    "cluster_df\n",
    "# meanshift.cluster_centers_.shape\n",
    "fig, axs = plt.subplots(figsize = (20,6)) \n",
    "parallel_coordinates(cluster_df, 'cluster', colormap=plt.get_cmap(\"Set2\"))\n",
    "plt.show()"
   ]
  },
  {
   "cell_type": "code",
   "execution_count": null,
   "metadata": {
    "id": "jQkJE3Zu-YZP"
   },
   "outputs": [],
   "source": [
    "points = meanshift.labels_\n",
    "points.reshape(1, len(points))\n",
    "points = pd.DataFrame(points)\n",
    "points.columns = [\"cluster\"]\n",
    "points.groupby(\"cluster\")['cluster'].count()"
   ]
  },
  {
   "cell_type": "code",
   "execution_count": null,
   "metadata": {
    "id": "Yjrc0UMPin8F"
   },
   "outputs": [],
   "source": [
    "labeled_songs = pd.concat([dataset_features_normalized, points], axis=1)\n",
    "fig, axs = plt.subplots(figsize = (20,6))\n",
    "parallel_coordinates(labeled_songs[::10], 'cluster', colormap=plt.get_cmap(\"Set2\"))\n",
    "plt.show()"
   ]
  },
  {
   "cell_type": "code",
   "execution_count": null,
   "metadata": {
    "id": "TuE3CQqU-JA5"
   },
   "outputs": [],
   "source": [
    "fig, axs = plt.subplots(figsize = (20,6))\n",
    "averaged = labeled_songs.groupby(\"cluster\").mean()\n",
    "averaged = pd.concat([averaged, rightlabels], axis = 1)\n",
    "averaged.columns.values[-1] = \"cluster\"\n",
    "averaged\n",
    "parallel_coordinates(averaged, 'cluster', colormap=plt.get_cmap(\"Set2\"))\n",
    "plt.show()"
   ]
  },
  {
   "cell_type": "code",
   "execution_count": null,
   "metadata": {
    "id": "ajmxz8Q1TiPp"
   },
   "outputs": [],
   "source": [
    "from sklearn.cluster import AgglomerativeClustering\n",
    "num_agglo_clusters = 6 \n",
    "agglo = AgglomerativeClustering(n_clusters=num_agglo_clusters)\n",
    "agglo.fit(dataset_features_normalized)\n"
   ]
  },
  {
   "cell_type": "code",
   "execution_count": null,
   "metadata": {
    "id": "FW2M8KbYZFWy"
   },
   "outputs": [],
   "source": [
    "agglo.n_clusters\n",
    "len(agglo.labels_)\n",
    "agglolabels = pd.DataFrame(agglo.labels_)\n",
    "agglo_songs = pd.concat([dataset_features_normalized, agglolabels], axis=1)\n",
    "agglo_songs.columns.values[-1] = \"cluster\"\n",
    "agglo_songs.groupby(\"cluster\")[\"cluster\"].count()"
   ]
  },
  {
   "cell_type": "code",
   "execution_count": null,
   "metadata": {
    "id": "6SGY5zndTjbZ"
   },
   "outputs": [],
   "source": [
    "fig, axs = plt.subplots(figsize = (20,6)) \n",
    "parallel_coordinates(agglo_songs, 'cluster', colormap=plt.get_cmap(\"Set3\"))\n",
    "plt.show()"
   ]
  },
  {
   "cell_type": "code",
   "execution_count": null,
   "metadata": {
    "id": "jAmnuuU8V8F0"
   },
   "outputs": [],
   "source": [
    "averaged_agglo = agglo_songs.groupby(\"cluster\").mean()\n",
    "averaged_agglo = pd.concat([averaged_agglo, pd.DataFrame(np.arange(1, num_agglo_clusters + 1))], axis=1)\n",
    "averaged_agglo.columns.values[-1] = \"cluster\"\n",
    "averaged_agglo\n",
    "\n",
    "fig, axs = plt.subplots(figsize = (20,6)) \n",
    "parallel_coordinates(averaged_agglo, 'cluster', colormap=plt.get_cmap(\"Set3\"))\n",
    "plt.show()"
   ]
  },
  {
   "cell_type": "code",
   "execution_count": null,
   "metadata": {
    "id": "MP-JU3EDaU8Y"
   },
   "outputs": [],
   "source": [
    "from sklearn.discriminant_analysis import LinearDiscriminantAnalysis \n",
    "lda = LinearDiscriminantAnalysis() \n",
    "agglopredictions = agglolabels.values.reshape(len(agglolabels.values))\n",
    "lda_transformed = pd.DataFrame(lda.fit_transform(dataset_features_normalized.values, agglopredictions))\n",
    "fig, axs = plt.subplots(figsize = (20,6)) \n",
    "\n",
    "# nice n_clusters values: ~3, ~4, \n",
    "\n",
    "plt.scatter(lda_transformed[agglopredictions==0][0], lda_transformed[agglopredictions==0][1], label='Class 0', c='orange')\n",
    "plt.scatter(lda_transformed[agglopredictions==1][0], lda_transformed[agglopredictions==1][1], label='Class 1', c='red')\n",
    "plt.scatter(lda_transformed[agglopredictions==2][0], lda_transformed[agglopredictions==2][1], label='Class 2', c='blue')\n",
    "plt.scatter(lda_transformed[agglopredictions==3][0], lda_transformed[agglopredictions==3][1], label='Class 3', c='lightgreen')\n",
    "plt.scatter(lda_transformed[agglopredictions==4][0], lda_transformed[agglopredictions==4][1], label='Class 4', c='yellow')\n",
    "plt.scatter(lda_transformed[agglopredictions==5][0], lda_transformed[agglopredictions==5][1], label='Class 5', c='green')\n",
    "plt.scatter(lda_transformed[agglopredictions==6][0], lda_transformed[agglopredictions==6][1], label='Class 6', c='pink')\n",
    "plt.scatter(lda_transformed[agglopredictions==7][0], lda_transformed[agglopredictions==7][1], label='Class 7', c='orange')\n",
    "plt.scatter(lda_transformed[agglopredictions==8][0], lda_transformed[agglopredictions==8][1], label='Class 8', c='red')\n",
    "plt.scatter(lda_transformed[agglopredictions==9][0], lda_transformed[agglopredictions==9][1], label='Class 9', c='blue')\n",
    "\n",
    "# Display legend and show plot\n",
    "plt.legend(loc=3)\n",
    "plt.show()"
   ]
  }
 ],
 "metadata": {
  "colab": {
   "collapsed_sections": [],
   "name": "301Project",
   "provenance": []
  },
  "kernelspec": {
   "display_name": "Python 3 (ipykernel)",
   "language": "python",
   "name": "python3"
  },
  "language_info": {
   "codemirror_mode": {
    "name": "ipython",
    "version": 3
   },
   "file_extension": ".py",
   "mimetype": "text/x-python",
   "name": "python",
   "nbconvert_exporter": "python",
   "pygments_lexer": "ipython3",
   "version": "3.9.7"
  }
 },
 "nbformat": 4,
 "nbformat_minor": 1
}
