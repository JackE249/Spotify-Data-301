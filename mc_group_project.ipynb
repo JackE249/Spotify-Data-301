{
  "cells": [
    {
      "cell_type": "code",
      "execution_count": 2,
      "metadata": {
        "id": "c4U_-SZAqv4e"
      },
      "outputs": [],
      "source": [
        "import json\n",
        "import pandas as pd\n",
        "import numpy as np\n",
        "import spotipy\n",
        "import requests\n",
        "import spotipy.util as util\n",
        "from spotipy.oauth2 import SpotifyOAuth\n",
        "import os\n",
        "from collections import defaultdict\n"
      ]
    },
    {
      "cell_type": "code",
      "execution_count": 3,
      "metadata": {},
      "outputs": [],
      "source": [
        "%load_ext dotenv\n",
        "%dotenv"
      ]
    },
    {
      "cell_type": "code",
      "execution_count": 5,
      "metadata": {},
      "outputs": [],
      "source": [
        "\n",
        "username = os.environ.get(\"USERNAME\")\n",
        "client_id = os.environ.get(\"CLIENT_ID\")\n",
        "client_secret = os.environ.get(\"CLIENT_SECRET\")\n",
        "redirect_uri = 'http://localhost:7777/callback'\n",
        "scope = 'user-read-recently-played'\n",
        "data_path = f\"./{username}_data\"\n",
        "prefix = f\"{username}_\"\n",
        "\n",
        "sp = spotipy.Spotify(auth_manager=SpotifyOAuth(client_id,\n",
        "                                                client_secret,     \n",
        "                                                scope=scope, \n",
        "                                                redirect_uri=redirect_uri,\n",
        "                                                username=username))"
      ]
    },
    {
      "cell_type": "code",
      "execution_count": 4,
      "metadata": {
        "id": "RnJl4o4ar2GT"
      },
      "outputs": [],
      "source": [
        "identifiers_string = open(f\"{data_path}/{prefix}Identifiers.json\", \"r\").read()\n",
        "identifiers_json = json.loads(identifiers_string)\n",
        "\n",
        "inferences_string = open(f\"{data_path}/{prefix}Inferences.json\", \"r\").read()\n",
        "inferences_json = json.loads(inferences_string)\n",
        "\n",
        "marquee_string = open(f\"{data_path}/{prefix}Marquee.json\", \"r\").read()\n",
        "marquee_json = json.loads(marquee_string)\n",
        "\n",
        "playlist_string = open(f\"{data_path}/{prefix}Playlist1.json\", \"r\").read()\n",
        "playlist_json = json.loads(playlist_string)\n",
        "\n",
        "search_string = open(f\"{data_path}/{prefix}SearchQueries.json\", \"r\").read()\n",
        "search_json = json.loads(search_string)\n",
        "\n",
        "library_string = open(f\"{data_path}/{prefix}YourLibrary.json\", \"r\").read()\n",
        "library_json = json.loads(library_string)"
      ]
    },
    {
      "cell_type": "code",
      "execution_count": 6,
      "metadata": {
        "colab": {
          "base_uri": "https://localhost:8080/"
        },
        "id": "Jl3ZX1Zds2sY",
        "outputId": "115057e2-84aa-429c-ad4f-2626b0b18455"
      },
      "outputs": [],
      "source": [
        "import ast\n",
        "from typing import List\n",
        "from os import listdir\n",
        "def get_streamings(path: str) -> List[dict]:\n",
        "    \n",
        "    files = [f\"{data_path}/{x}\" for x in listdir(path)\n",
        "             if x.split('.')[0][:-1] == prefix+'StreamingHistory']\n",
        "    \n",
        "    all_streamings = []\n",
        "    \n",
        "    for file in files: \n",
        "        with open(file, 'r', encoding='UTF-8') as f:\n",
        "            new_streamings = ast.literal_eval(f.read())\n",
        "            all_streamings += [streaming for streaming \n",
        "                               in new_streamings]\n",
        "    return all_streamings"
      ]
    },
    {
      "cell_type": "code",
      "execution_count": 6,
      "metadata": {},
      "outputs": [],
      "source": [
        "# from collections import defaultdict\n",
        "\n",
        "# streamings = get_streamings(data_path)\n",
        "\n",
        "# exceptions = 0\n",
        "# tracks_to_ids = defaultdict()\n",
        "# for i in range(len(streamings)):\n",
        "#    track_name = streamings[i]['trackName']\n",
        "#    if track_name in tracks_to_ids:\n",
        "#       streamings[i]['id'] = tracks_to_ids[track_name]\n",
        "#    else:\n",
        "#       search = sp.search(q=f\"track:{track_name}\",type=\"track\")\n",
        "#       try:\n",
        "#          id = search['tracks']['items'][0]['id']\n",
        "#          streamings[i]['id'] = id\n",
        "#       except: #          tracks_to_ids[track_name] = None\n",
        "\n",
        "# with open(f'{data_path}/{prefix}history_with_ids', 'w') as f:\n",
        "#    f.write(json.dumps(streamings, indent=2))\n",
        "#\n",
        "# nones = 0\n",
        "# for x, y in tracks_to_ids.items():\n",
        "#      if y == None:\n",
        "#         nones+=1\n",
        "\n",
        "# print(nones)"
      ]
    },
    {
      "cell_type": "code",
      "execution_count": 7,
      "metadata": {},
      "outputs": [],
      "source": [
        "tracks_file = open(f'{data_path}/{prefix}history_with_ids', 'r')\n",
        "tracks = json.load(tracks_file)\n",
        "\n",
        "indices_to_remove = []\n",
        "for i in range(len(tracks)):\n",
        "   try:\n",
        "      tracks[i]['id']\n",
        "   except KeyError:\n",
        "      indices_to_remove.append(i)\n",
        "\n",
        "tracks_result = []\n",
        "prev = 0\n",
        "for x in indices_to_remove:\n",
        "   tracks_result += tracks[prev + 1: x]\n",
        "   prev = x\n",
        "tracks = tracks_result"
      ]
    },
    {
      "cell_type": "code",
      "execution_count": 27,
      "metadata": {},
      "outputs": [],
      "source": [
        "def get_features(track_ids: list) -> list:\n",
        "    features = sp.audio_features(track_ids)\n",
        "    "
      ]
    },
    {
      "cell_type": "code",
      "execution_count": 8,
      "metadata": {},
      "outputs": [],
      "source": [
        "tracks_df = pd.DataFrame(tracks).dropna(subset=[\"id\"], axis=0)\n",
        "unique_ids = tracks_df['id'].unique()\n",
        "block = 0\n",
        "features = []\n",
        "while(len(unique_ids) - block > 0):\n",
        "   ids = unique_ids[block:block + 100]\n",
        "   block+=100\n",
        "   features += sp.audio_features(ids)"
      ]
    },
    {
      "cell_type": "code",
      "execution_count": 16,
      "metadata": {},
      "outputs": [],
      "source": [
        "pd.merge(tracks_df, pd.DataFrame(features), on='id', how='left').to_csv(f'{data_path}/{prefix}history_with_ids_features.csv', index=False)"
      ]
    },
    {
      "cell_type": "code",
      "execution_count": null,
      "metadata": {},
      "outputs": [],
      "source": [
        "with open(f'{data_path}/{prefix}history_with_features', 'w') as f:\n",
        "   f.write(json.dumps(tracks, indent=2))"
      ]
    },
    {
      "cell_type": "code",
      "execution_count": 15,
      "metadata": {},
      "outputs": [
        {
          "data": {
            "text/plain": [
              "[{'danceability': 0.417,\n",
              "  'energy': 0.408,\n",
              "  'key': 5,\n",
              "  'loudness': -13.343,\n",
              "  'mode': 0,\n",
              "  'speechiness': 0.0761,\n",
              "  'acousticness': 0.535,\n",
              "  'instrumentalness': 0.655,\n",
              "  'liveness': 0.102,\n",
              "  'valence': 0.233,\n",
              "  'tempo': 165.799,\n",
              "  'type': 'audio_features',\n",
              "  'id': '6tJFtthY0rI1x06qb8NjK0',\n",
              "  'uri': 'spotify:track:6tJFtthY0rI1x06qb8NjK0',\n",
              "  'track_href': 'https://api.spotify.com/v1/tracks/6tJFtthY0rI1x06qb8NjK0',\n",
              "  'analysis_url': 'https://api.spotify.com/v1/audio-analysis/6tJFtthY0rI1x06qb8NjK0',\n",
              "  'duration_ms': 198862,\n",
              "  'time_signature': 4},\n",
              " {'danceability': 0.886,\n",
              "  'energy': 0.568,\n",
              "  'key': 9,\n",
              "  'loudness': -7.841,\n",
              "  'mode': 1,\n",
              "  'speechiness': 0.0439,\n",
              "  'acousticness': 0.0375,\n",
              "  'instrumentalness': 0.00216,\n",
              "  'liveness': 0.0858,\n",
              "  'valence': 0.753,\n",
              "  'tempo': 109.981,\n",
              "  'type': 'audio_features',\n",
              "  'id': '6iMBQot4ZWbc1judI3x1eG',\n",
              "  'uri': 'spotify:track:6iMBQot4ZWbc1judI3x1eG',\n",
              "  'track_href': 'https://api.spotify.com/v1/tracks/6iMBQot4ZWbc1judI3x1eG',\n",
              "  'analysis_url': 'https://api.spotify.com/v1/audio-analysis/6iMBQot4ZWbc1judI3x1eG',\n",
              "  'duration_ms': 193000,\n",
              "  'time_signature': 4}]"
            ]
          },
          "execution_count": 15,
          "metadata": {},
          "output_type": "execute_result"
        }
      ],
      "source": [
        "sp.audio_features([\"6tJFtthY0rI1x06qb8NjK0\",\"6iMBQot4ZWbc1judI3x1eG\"])"
      ]
    }
  ],
  "metadata": {
    "colab": {
      "collapsed_sections": [],
      "name": "mc_group_project.ipynb",
      "provenance": []
    },
    "kernelspec": {
      "display_name": "Python 3",
      "name": "python3"
    },
    "language_info": {
      "codemirror_mode": {
        "name": "ipython",
        "version": 3
      },
      "file_extension": ".py",
      "mimetype": "text/x-python",
      "name": "python",
      "nbconvert_exporter": "python",
      "pygments_lexer": "ipython3",
      "version": "3.8.9"
    }
  },
  "nbformat": 4,
  "nbformat_minor": 0
}
