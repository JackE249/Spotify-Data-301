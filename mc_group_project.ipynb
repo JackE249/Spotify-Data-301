{
  "cells": [
    {
      "cell_type": "code",
      "execution_count": 1,
      "metadata": {
        "id": "c4U_-SZAqv4e"
      },
      "outputs": [],
      "source": [
        "import json\n",
        "import pandas as pd\n",
        "import numpy as np\n",
        "import spotipy\n",
        "import requests\n",
        "import spotipy.util as util\n",
        "from spotipy.oauth2 import SpotifyOAuth\n",
        "import os\n"
      ]
    },
    {
      "cell_type": "code",
      "execution_count": 2,
      "metadata": {},
      "outputs": [],
      "source": [
        "%load_ext dotenv\n",
        "%dotenv"
      ]
    },
    {
      "cell_type": "code",
      "execution_count": 3,
      "metadata": {},
      "outputs": [],
      "source": [
        "\n",
        "username = os.environ.get(\"USERNAME\")\n",
        "client_id = os.environ.get(\"CLIENT_ID\")\n",
        "client_secret = os.environ.get(\"CLIENT_SECRET\")\n",
        "redirect_uri = 'http://localhost:7777/callback'\n",
        "scope = 'user-read-recently-played'\n",
        "data_path = f\"./{username}_data\"\n",
        "prefix = f\"{username}_\"\n",
        "\n",
        "sp = spotipy.Spotify(auth_manager=SpotifyOAuth(client_id,\n",
        "                                                client_secret,     \n",
        "                                                scope=scope, \n",
        "                                                redirect_uri=redirect_uri,\n",
        "                                                username=username))"
      ]
    },
    {
      "cell_type": "code",
      "execution_count": 4,
      "metadata": {
        "id": "RnJl4o4ar2GT"
      },
      "outputs": [],
      "source": [
        "identifiers_string = open(f\"{data_path}/{prefix}Identifiers.json\", \"r\").read()\n",
        "identifiers_json = json.loads(identifiers_string)\n",
        "\n",
        "inferences_string = open(f\"{data_path}/{prefix}Inferences.json\", \"r\").read()\n",
        "inferences_json = json.loads(inferences_string)\n",
        "\n",
        "marquee_string = open(f\"{data_path}/{prefix}Marquee.json\", \"r\").read()\n",
        "marquee_json = json.loads(marquee_string)\n",
        "\n",
        "playlist_string = open(f\"{data_path}/{prefix}Playlist1.json\", \"r\").read()\n",
        "playlist_json = json.loads(playlist_string)\n",
        "\n",
        "search_string = open(f\"{data_path}/{prefix}SearchQueries.json\", \"r\").read()\n",
        "search_json = json.loads(search_string)\n",
        "\n",
        "library_string = open(f\"{data_path}/{prefix}YourLibrary.json\", \"r\").read()\n",
        "library_json = json.loads(library_string)"
      ]
    },
    {
      "cell_type": "code",
      "execution_count": 5,
      "metadata": {
        "colab": {
          "base_uri": "https://localhost:8080/"
        },
        "id": "Jl3ZX1Zds2sY",
        "outputId": "115057e2-84aa-429c-ad4f-2626b0b18455"
      },
      "outputs": [],
      "source": [
        "import ast\n",
        "from typing import List\n",
        "from os import listdir\n",
        "def get_streamings(path: str) -> List[dict]:\n",
        "    \n",
        "    files = [f\"{data_path}/{x}\" for x in listdir(path)\n",
        "             if x.split('.')[0][:-1] == prefix+'StreamingHistory']\n",
        "    \n",
        "    all_streamings = []\n",
        "    \n",
        "    for file in files: \n",
        "        with open(file, 'r', encoding='UTF-8') as f:\n",
        "            new_streamings = ast.literal_eval(f.read())\n",
        "            all_streamings += [streaming for streaming \n",
        "                               in new_streamings]\n",
        "    return all_streamings"
      ]
    },
    {
      "cell_type": "code",
      "execution_count": 6,
      "metadata": {},
      "outputs": [],
      "source": [
        "from collections import defaultdict\n",
        "\n",
        "streamings = get_streamings(data_path)\n",
        "\n",
        "exceptions = 0\n",
        "tracks_to_ids = defaultdict()\n",
        "for i in range(len(streamings)):\n",
        "   track_name = streamings[i]['trackName']\n",
        "   if track_name in tracks_to_ids:\n",
        "      streamings[i]['id'] = tracks_to_ids[track_name]\n",
        "   else:\n",
        "      search = sp.search(q=f\"track:{track_name}\",type=\"track\")\n",
        "      try:\n",
        "         id = search['tracks']['items'][0]['id']\n",
        "         streamings[i]['id'] = id\n",
        "      except:\n",
        "         exceptions+= 1"
      ]
    }
  ],
  "metadata": {
    "colab": {
      "collapsed_sections": [],
      "name": "mc_group_project.ipynb",
      "provenance": []
    },
    "kernelspec": {
      "display_name": "Python 3",
      "name": "python3"
    },
    "language_info": {
      "codemirror_mode": {
        "name": "ipython",
        "version": 3
      },
      "file_extension": ".py",
      "mimetype": "text/x-python",
      "name": "python",
      "nbconvert_exporter": "python",
      "pygments_lexer": "ipython3",
      "version": "3.8.2"
    }
  },
  "nbformat": 4,
  "nbformat_minor": 0
}
