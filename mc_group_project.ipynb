{
  "cells": [
    {
      "cell_type": "code",
      "execution_count": 6,
      "metadata": {
        "id": "c4U_-SZAqv4e"
      },
      "outputs": [],
      "source": [
        "import json\n",
        "import pandas as pd\n",
        "import numpy as np\n",
        "import spotipy\n",
        "import requests\n",
        "import spotipy.util as util\n",
        "import os\n",
        "\n",
        "mc_data_path = \"./mattcuento_data\"\n",
        "mc_prefix = \"mattcuento_\""
      ]
    },
    {
      "cell_type": "code",
      "execution_count": 10,
      "metadata": {},
      "outputs": [
        {
          "name": "stdout",
          "output_type": "stream",
          "text": [
            "The dotenv extension is already loaded. To reload it, use:\n",
            "  %reload_ext dotenv\n"
          ]
        }
      ],
      "source": [
        "%load_ext dotenv\n",
        "%dotenv"
      ]
    },
    {
      "cell_type": "code",
      "execution_count": 12,
      "metadata": {},
      "outputs": [
        {
          "data": {
            "text/plain": [
              "'BQDXOn4_k7Gh7MQC1-mfzRvnEj34CdofZ9dcf9xoLen5r1wb7vozTuuLKPsesUj5bEbT4PGGBVMAW2OTEw1-fbBPftPqU9VFaLdeB2WoktHK9H-ZRg9no4gw7qKYfufOHi21wr2c_8mUtxi5bdMXtU4'"
            ]
          },
          "execution_count": 12,
          "metadata": {},
          "output_type": "execute_result"
        }
      ],
      "source": [
        "\n",
        "username = os.environ.get(\"USERNAME\")\n",
        "client_id = os.environ.get(\"CLIENT_ID\")\n",
        "client_secret = os.environ.get(\"CLIENT_SECRET\")\n",
        "redirect_uri = 'http://localhost:7777/callback'\n",
        "scope = 'user-read-recently-played'\n",
        "\n",
        "token = util.prompt_for_user_token(username=username, \n",
        "                                   scope=scope, \n",
        "                                   client_id=client_id,   \n",
        "                                   client_secret=client_secret,     \n",
        "                                   redirect_uri=redirect_uri)\n",
        "token"
      ]
    },
    {
      "cell_type": "code",
      "execution_count": 13,
      "metadata": {
        "id": "RnJl4o4ar2GT"
      },
      "outputs": [],
      "source": [
        "identifiers_string = open(f\"{mc_data_path}/{mc_prefix}Identifiers.json\", \"r\").read()\n",
        "identifiers_json = json.loads(identifiers_string)\n",
        "\n",
        "inferences_string = open(f\"{mc_data_path}/{mc_prefix}Inferences.json\", \"r\").read()\n",
        "inferences_json = json.loads(inferences_string)\n",
        "\n",
        "marquee_string = open(f\"{mc_data_path}/{mc_prefix}Marquee.json\", \"r\").read()\n",
        "marquee_json = json.loads(marquee_string)\n",
        "\n",
        "playlist_string = open(f\"{mc_data_path}/{mc_prefix}Playlist1.json\", \"r\").read()\n",
        "playlist_json = json.loads(playlist_string)\n",
        "\n",
        "search_string = open(f\"{mc_data_path}/{mc_prefix}SearchQueries.json\", \"r\").read()\n",
        "search_json = json.loads(search_string)\n",
        "\n",
        "stream_0_string = open(f\"{mc_data_path}/{mc_prefix}StreamingHistory0.json\", \"r\").read()\n",
        "stream_json = json.loads(stream_0_string)\n",
        "\n",
        "stream_1_string = open(f\"{mc_data_path}/{mc_prefix}StreamingHistory1.json\", \"r\").read()\n",
        "stream_json.extend(json.loads(stream_1_string))\n",
        "\n",
        "voice_string = open(f\"{mc_data_path}/{mc_prefix}VoiceInput.json\", \"r\").read()\n",
        "voice_json = json.loads(voice_string)\n",
        "\n",
        "library_string = open(f\"{mc_data_path}/{mc_prefix}YourLibrary.json\", \"r\").read()\n",
        "library_json = json.loads(library_string)"
      ]
    },
    {
      "cell_type": "code",
      "execution_count": null,
      "metadata": {
        "colab": {
          "base_uri": "https://localhost:8080/"
        },
        "id": "Jl3ZX1Zds2sY",
        "outputId": "115057e2-84aa-429c-ad4f-2626b0b18455"
      },
      "outputs": [],
      "source": []
    }
  ],
  "metadata": {
    "colab": {
      "collapsed_sections": [],
      "name": "mc_group_project.ipynb",
      "provenance": []
    },
    "kernelspec": {
      "display_name": "Python 3",
      "name": "python3"
    },
    "language_info": {
      "codemirror_mode": {
        "name": "ipython",
        "version": 3
      },
      "file_extension": ".py",
      "mimetype": "text/x-python",
      "name": "python",
      "nbconvert_exporter": "python",
      "pygments_lexer": "ipython3",
      "version": "3.8.2"
    }
  },
  "nbformat": 4,
  "nbformat_minor": 0
}
